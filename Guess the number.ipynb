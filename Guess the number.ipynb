{
 "cells": [
  {
   "cell_type": "markdown",
   "id": "1780b35c",
   "metadata": {},
   "source": [
    "# Guess the number game"
   ]
  },
  {
   "cell_type": "code",
   "execution_count": 5,
   "id": "296f1fb9",
   "metadata": {},
   "outputs": [
    {
     "name": "stdout",
     "output_type": "stream",
     "text": [
      "Guess the number6\n",
      "Your guess is incorrect\n",
      "Guess the number7\n",
      "Your guess is incorrect\n",
      "Guess the number8\n",
      "Hurray!!\n",
      "        You have guessed it right\n"
     ]
    }
   ],
   "source": [
    "import random\n",
    "number= random.randint(0,9)\n",
    "for i in range(0,3):\n",
    "    user= int(input(\"Guess the number\"))\n",
    "    if user==number:\n",
    "        print(\"\"\"Hurray!!\n",
    "        You have guessed it right\"\"\")\n",
    "        break\n",
    "    if user!=number:\n",
    "        print(\"Your guess is incorrect\")"
   ]
  },
  {
   "cell_type": "code",
   "execution_count": null,
   "id": "b7e2a5d1",
   "metadata": {},
   "outputs": [],
   "source": []
  },
  {
   "cell_type": "code",
   "execution_count": null,
   "id": "ec158091",
   "metadata": {},
   "outputs": [],
   "source": []
  }
 ],
 "metadata": {
  "kernelspec": {
   "display_name": "Python 3",
   "language": "python",
   "name": "python3"
  },
  "language_info": {
   "codemirror_mode": {
    "name": "ipython",
    "version": 3
   },
   "file_extension": ".py",
   "mimetype": "text/x-python",
   "name": "python",
   "nbconvert_exporter": "python",
   "pygments_lexer": "ipython3",
   "version": "3.8.8"
  }
 },
 "nbformat": 4,
 "nbformat_minor": 5
}
